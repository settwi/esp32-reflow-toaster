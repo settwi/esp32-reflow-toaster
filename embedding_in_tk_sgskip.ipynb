{
 "cells": [
  {
   "cell_type": "code",
   "execution_count": null,
   "metadata": {},
   "outputs": [],
   "source": [
    "%matplotlib inline"
   ]
  },
  {
   "cell_type": "markdown",
   "metadata": {},
   "source": [
    "\n",
    "# Embedding in Tk\n",
    "\n"
   ]
  },
  {
   "cell_type": "code",
   "execution_count": 2,
   "metadata": {},
   "outputs": [
    {
     "name": "stdout",
     "output_type": "stream",
     "text": [
      "Go!\n",
      "Stop!\n",
      "Stop!\n"
     ]
    },
    {
     "data": {
      "image/png": "[encoded data removed]",
      "text/plain": [
       "<Figure size 500x400 with 1 Axes>"
      ]
     },
     "metadata": {},
     "output_type": "display_data"
    }
   ],
   "source": [
    "import tkinter\n",
    "\n",
    "from matplotlib.backends.backend_tkagg import (\n",
    "    FigureCanvasTkAgg, NavigationToolbar2Tk)\n",
    "# Implement the default Matplotlib key bindings.\n",
    "from matplotlib.backend_bases import key_press_handler\n",
    "from matplotlib.figure import Figure\n",
    "from matplotlib import animation\n",
    "import matplotlib.pyplot as plt\n",
    "\n",
    "import numpy as np\n",
    "import numpy.random\n",
    "\n",
    "\n",
    "root = tkinter.Tk()\n",
    "root.wm_title(\"Embedding in Tk\")\n",
    "\n",
    "fig, ax = plt.subplots(figsize=(5, 4), dpi=100, layout='constrained')\n",
    "# ax.set(xlim=(0, 1), ylim=(0, 1))\n",
    "# ax.set(yscale='log')\n",
    "sc = ax.scatter([], [])\n",
    "\n",
    "canvas = FigureCanvasTkAgg(fig, master=root)  # A tk.DrawingArea.\n",
    "canvas.draw()\n",
    "canvas.get_tk_widget().pack(side=tkinter.TOP, fill=tkinter.BOTH, expand=1)\n",
    "\n",
    "toolbar = NavigationToolbar2Tk(canvas, root)\n",
    "toolbar.update()\n",
    "canvas.get_tk_widget().pack(side=tkinter.TOP, fill=tkinter.BOTH, expand=1)\n",
    "\n",
    "\n",
    "def on_key_press(event):\n",
    "    print(\"you pressed {}\".format(event.key))\n",
    "    key_press_handler(event, canvas, toolbar)\n",
    "\n",
    "\n",
    "canvas.mpl_connect(\"key_press_event\", on_key_press)\n",
    "\n",
    "dead = True\n",
    "\n",
    "def _go():\n",
    "    print(\"Go!\")\n",
    "    global dead\n",
    "    dead = False\n",
    "    \n",
    "def _stop():\n",
    "    print(\"Stop!\")\n",
    "    global dead\n",
    "    dead = True\n",
    "\n",
    "def _quit():\n",
    "    root.quit()     # stops mainloop\n",
    "    root.destroy()  # this is necessary on Windows to prevent\n",
    "                    # Fatal Python Error: PyEval_RestoreThread: NULL tstate\n",
    "\n",
    "buts = []\n",
    "buts.append(go_but := tkinter.Button(master=root, text='Go!', command=_go))\n",
    "buts.append(stop_but := tkinter.Button(master=root, text='Stop!', command=_stop))\n",
    "buts.append(quit_but := tkinter.Button(master=root, text=\"Quit\", command=_quit))\n",
    "last_b = None\n",
    "for b in buts:\n",
    "    b.pack(side=tkinter.LEFT, expand=True)\n",
    "    last_b = b\n",
    "\n",
    "def init():\n",
    "    sc.set_offsets([[0, 0], [0, 0]])\n",
    "    return sc,\n",
    "\n",
    "sleep_dur = 0.5\n",
    "x = [0]\n",
    "y = [0]\n",
    "import serial\n",
    "def animate(i):\n",
    "    global dead\n",
    "    if dead: return sc,\n",
    "    \n",
    "    temp_mask = 0xfff\n",
    "    gain = 0.25\n",
    "    with serial.Serial('/dev/ttyUSB1', baudrate=115200) as s:\n",
    "        s.timeout = 2\n",
    "        a, b = s.read(2)\n",
    "        comb = (a << 8) | b\n",
    "        masked = (comb >> 3) & temp_mask\n",
    "        t = masked * gain\n",
    "        \n",
    "    x.append(x[-1] + sleep_dur)\n",
    "    y.append(t)\n",
    "    \n",
    "    to_plot = np.array([x, y]).T\n",
    "    sc.set_offsets(to_plot)\n",
    "    ax.set(\n",
    "        xlim=(np.min(to_plot[:,0])*0.9, np.max(to_plot[:,0])*1.1),\n",
    "        ylim=(np.min(to_plot[:,1])*0.9, np.max(to_plot[:,1])*1.1)\n",
    "    )\n",
    "    return sc,\n",
    "    \n",
    "anim = animation.FuncAnimation(\n",
    "    fig, animate, init_func=init, cache_frame_data=False, interval=int(sleep_dur * 1000), blit=False)\n",
    "\n",
    "tkinter.mainloop()\n",
    "# If you put root.destroy() here, it will cause an error if the window is\n",
    "# closed with the window manager."
   ]
  },
  {
   "cell_type": "code",
   "execution_count": null,
   "metadata": {},
   "outputs": [],
   "source": []
  }
 ],
 "metadata": {
  "kernelspec": {
   "display_name": "Python 3 (ipykernel)",
   "language": "python",
   "name": "python3"
  },
  "language_info": {
   "codemirror_mode": {
    "name": "ipython",
    "version": 3
   },
   "file_extension": ".py",
   "mimetype": "text/x-python",
   "name": "python",
   "nbconvert_exporter": "python",
   "pygments_lexer": "ipython3",
   "version": "3.11.4"
  }
 },
 "nbformat": 4,
 "nbformat_minor": 1
}
